{
  "cells": [
    {
      "cell_type": "markdown",
      "metadata": {
        "id": "view-in-github",
        "colab_type": "text"
      },
      "source": [
        "<a href=\"https://colab.research.google.com/github/Mudasir24/AIML/blob/main/NIM_RL_Teaching_Notebook.ipynb\" target=\"_parent\"><img src=\"https://colab.research.google.com/assets/colab-badge.svg\" alt=\"Open In Colab\"/></a>"
      ]
    },
    {
      "cell_type": "markdown",
      "id": "d0ea81d7",
      "metadata": {
        "id": "d0ea81d7"
      },
      "source": [
        "# 🧠 Reinforcement Learning with the NIM Game\n",
        "Let's teach our AI how to win a simple game using Q-learning."
      ]
    },
    {
      "cell_type": "markdown",
      "id": "2326000a",
      "metadata": {
        "id": "2326000a"
      },
      "source": [
        "## 🎮 The NIM Game Rules\n",
        "- Start with 21 sticks.\n",
        "- Each player takes 1, 2, or 3 sticks on their turn.\n",
        "- The player who takes the **last stick loses**.\n",
        "\n",
        "We'll train an AI to get smarter over time!"
      ]
    },
    {
      "cell_type": "code",
      "execution_count": 1,
      "id": "d6b59538",
      "metadata": {
        "id": "d6b59538"
      },
      "outputs": [],
      "source": [
        "MAX_STICKS = 21\n",
        "ACTIONS = [1, 2, 3, 4]"
      ]
    },
    {
      "cell_type": "markdown",
      "id": "598d7dad",
      "metadata": {
        "id": "598d7dad"
      },
      "source": [
        "## 🧠 Step 1: Create a Q-table\n",
        "We’ll use a dictionary to store the AI’s knowledge — the expected value (Q) of taking each action in every possible state."
      ]
    },
    {
      "cell_type": "code",
      "execution_count": 2,
      "id": "0ab88528",
      "metadata": {
        "id": "0ab88528"
      },
      "outputs": [],
      "source": [
        "Q = {}"
      ]
    },
    {
      "cell_type": "markdown",
      "id": "3c985115",
      "metadata": {
        "id": "3c985115"
      },
      "source": [
        "## 🎲 Step 2: Action Choice\n",
        "Let’s write a function that chooses an action. We’ll use **epsilon-greedy** — random at first, smarter later."
      ]
    },
    {
      "cell_type": "code",
      "execution_count": 4,
      "id": "e717bdea",
      "metadata": {
        "id": "e717bdea"
      },
      "outputs": [],
      "source": [
        "\n",
        "import random\n",
        "\n",
        "def choose_action(state, epsilon):\n",
        "    if state not in Q:\n",
        "        Q[state] = {a: 0 for a in ACTIONS} #Initialize Q state\n",
        "    if random.random() < epsilon: #Epsilon is to do random moves\n",
        "        return random.choice([a for a in ACTIONS if a <= state])\n",
        "    return max(Q[state], key=Q[state].get)\n"
      ]
    },
    {
      "cell_type": "markdown",
      "id": "9d01dfae",
      "metadata": {
        "id": "9d01dfae"
      },
      "source": [
        "## 💡 Step 3: Q-Value Update Rule\n",
        "We’ll update the Q-values using this formula:\n",
        "```\n",
        "Q(s,a) = Q(s,a) + alpha * (reward + gamma * max(Q(s') - Q(s,a))\n",
        "```"
      ]
    },
    {
      "cell_type": "code",
      "execution_count": 5,
      "id": "d3ed83b9",
      "metadata": {
        "id": "d3ed83b9"
      },
      "outputs": [],
      "source": [
        "\n",
        "def update_q(state, action, reward, next_state, alpha=0.1, gamma=0.9):\n",
        "    if state not in Q:\n",
        "        Q[state] = {a: 0 for a in ACTIONS}\n",
        "    if next_state not in Q:\n",
        "        Q[next_state] = {a: 0 for a in ACTIONS}\n",
        "    max_q_next = max(Q[next_state].values())\n",
        "    Q[state][action] += alpha * (reward + gamma * max_q_next - Q[state][action])\n"
      ]
    },
    {
      "cell_type": "markdown",
      "id": "5302fc2c",
      "metadata": {
        "id": "5302fc2c"
      },
      "source": [
        "## 🔁 Step 4: Training Loop\n",
        "Now we’ll play lots of games where the AI learns from experience."
      ]
    },
    {
      "cell_type": "code",
      "execution_count": 12,
      "id": "2fe1d694",
      "metadata": {
        "id": "2fe1d694"
      },
      "outputs": [],
      "source": [
        "# Training the model to lose\n",
        "def train(episodes=10000, epsilon=0.3, alpha=0.1, gamma=0.9):\n",
        "    for _ in range(episodes):\n",
        "        state = MAX_STICKS\n",
        "        last_state, last_action = None, None\n",
        "\n",
        "        while state > 0:\n",
        "            action = choose_action(state, epsilon)\n",
        "            next_state = state - action\n",
        "\n",
        "            if last_state is not None:\n",
        "                update_q(last_state, last_action, 0, state, alpha, gamma)\n",
        "\n",
        "            last_state = state\n",
        "            last_action = action\n",
        "\n",
        "            if next_state == 0:\n",
        "                update_q(state, action, 1, next_state, alpha, gamma)\n",
        "                break\n",
        "\n",
        "            valid_opponent_actions = [a for a in ACTIONS if a <= next_state]\n",
        "            if not valid_opponent_actions:\n",
        "                update_q(last_state, last_action, 0, next_state, alpha, gamma)\n",
        "                break\n",
        "\n",
        "            opponent_action = random.choice(valid_opponent_actions)\n",
        "            state = next_state - opponent_action\n",
        "\n",
        "            if state <= 0:\n",
        "                update_q(last_state, last_action, -1, next_state, alpha, gamma)\n",
        "                break\n"
      ]
    },
    {
      "cell_type": "markdown",
      "id": "63bf4e99",
      "metadata": {
        "id": "63bf4e99"
      },
      "source": [
        "## 🚀 Train the AI!"
      ]
    },
    {
      "cell_type": "code",
      "execution_count": 13,
      "id": "0c4b8ebe",
      "metadata": {
        "id": "0c4b8ebe"
      },
      "outputs": [],
      "source": [
        "train()"
      ]
    },
    {
      "cell_type": "code",
      "source": [
        "print(Q)"
      ],
      "metadata": {
        "colab": {
          "base_uri": "https://localhost:8080/"
        },
        "id": "nGmkPcQFjQt5",
        "outputId": "8ea621f3-2de1-487c-b481-29ec63706890"
      },
      "id": "nGmkPcQFjQt5",
      "execution_count": 14,
      "outputs": [
        {
          "output_type": "stream",
          "name": "stdout",
          "text": [
            "{21: {1: 0.6682042767651922, 2: 0.6729797731063363, 3: 0.694283945461997, 4: 0.6987805124470369}, 18: {1: 0.7017120023218394, 2: 0.723750808469379, 3: 0.7282083945830897, 4: 0.7129055454010246}, 15: {1: 0.7246803302645219, 2: 0.7592197761977229, 3: 0.7667075564193486, 4: 0.7597252878106576}, 10: {1: 0.6808617552276041, 2: 0.7469158222376785, 3: 0.7883302519506252, 4: 0.7067072100010221}, 5: {1: 0.5759332671724873, 2: 0.3026895283458933, 3: 0.23811153458402945, 4: -0.09984408361385029}, 1: {1: 0.9999999999999996, 2: 0.0, 3: 0, 4: 0}, 0: {1: 0, 2: 0, 3: 0, 4: 0}, 14: {1: 0.7284221154472285, 2: 0.7679122381762034, 3: 0.7833219010439156, 4: 0.8099999999999987}, 9: {1: 0.8077075708431524, 2: 0.7755049575741563, 3: 0.861316996107124, 4: 0.899999999999999}, 6: {1: 0.899999999999999, 2: 0.7203493184489667, 3: 0.7287238779770342, 4: 0.43461273454763333}, 3: {1: 0.4436063048612124, 2: -0.09999999999969517, 3: 0.9999999999999996, 4: 0.0}, -1: {1: 0, 2: 0, 3: 0, 4: 0}, 17: {1: 0.7226548964585155, 2: 0.7301656047001035, 3: 0.7297225084105352, 4: 0.736502105606936}, 8: {1: 0.7852366818923167, 2: 0.8550922248525537, 3: 0.899999999999999, 4: 0.7171365852379845}, 2: {1: -0.10000000000000053, 2: 0.9999999999999996, 3: 0.0, 4: 0}, 16: {1: 0.7290012252953592, 2: 0.7215471599039068, 3: 0.7491553717137586, 4: 0.7346211184226576}, 12: {1: 0.7830614944854384, 2: 0.8099999999999987, 3: 0.7176826328648995, 4: 0.7669091927358191}, 4: {1: 0.5930467880862391, 2: 0.486566967408978, 3: -0.10000000000432252, 4: 0.9999999999999996}, 19: {1: 0.6582892147732353, 2: 0.6758024739368896, 3: 0.7219620582033754, 4: 0.6941483933383088}, 13: {1: 0.7783253222511894, 2: 0.7941742869322684, 3: 0.8099999999999987, 4: 0.7152817802318178}, 11: {1: 0.8099999999999987, 2: 0.7152114019705148, 3: 0.7094180720283116, 4: 0.7863472847906257}, 7: {1: 0.8224448179677475, 2: 0.899999999999999, 3: 0.6344717474632505, 4: 0.654189593644025}}\n"
          ]
        }
      ]
    },
    {
      "cell_type": "markdown",
      "id": "2c30e744",
      "metadata": {
        "id": "2c30e744"
      },
      "source": [
        "## 🧪 Let’s play against the AI!"
      ]
    },
    {
      "cell_type": "code",
      "execution_count": 15,
      "id": "24fb8cf3",
      "metadata": {
        "id": "24fb8cf3"
      },
      "outputs": [],
      "source": [
        "\n",
        "def play():\n",
        "    state = MAX_STICKS\n",
        "    while state > 0:\n",
        "        print(f\"Sticks left: {state}\")\n",
        "        move = int(input(\"Your move (1–3): \"))\n",
        "        state -= move\n",
        "        if state <= 0:\n",
        "            print(\"You took the last stick. You lose!\")\n",
        "            return\n",
        "        if state in Q:\n",
        "            ai_move = max(Q[state], key=Q[state].get)\n",
        "        else:\n",
        "            ai_move = random.choice([a for a in ACTIONS if a <= state])\n",
        "        print(f\"AI takes {ai_move} stick(s).\")\n",
        "        state -= ai_move\n",
        "        if state <= 0:\n",
        "            print(\"AI took the last stick. You win!\")\n",
        "            return\n"
      ]
    },
    {
      "cell_type": "code",
      "execution_count": 17,
      "id": "e912145f",
      "metadata": {
        "colab": {
          "base_uri": "https://localhost:8080/"
        },
        "id": "e912145f",
        "outputId": "bc61845f-13a2-47f7-dd93-59cdfe2df7ff"
      },
      "outputs": [
        {
          "output_type": "stream",
          "name": "stdout",
          "text": [
            "Sticks left: 21\n",
            "Your move (1–3): 5\n",
            "AI takes 3 stick(s).\n",
            "Sticks left: 13\n",
            "Your move (1–3): 3\n",
            "AI takes 3 stick(s).\n",
            "Sticks left: 7\n",
            "Your move (1–3): 4\n",
            "AI takes 3 stick(s).\n",
            "AI took the last stick. You win!\n"
          ]
        }
      ],
      "source": [
        "play()"
      ]
    },
    {
      "cell_type": "markdown",
      "id": "cc857d07",
      "metadata": {
        "id": "cc857d07"
      },
      "source": [
        "## 🎉 Summary\n",
        "You just trained an agent to play a game using trial-and-error. That’s the magic of Reinforcement Learning!"
      ]
    }
  ],
  "metadata": {
    "kernelspec": {
      "display_name": "Python 3",
      "name": "python3"
    },
    "language": "python",
    "language_info": {
      "codemirror_mode": {
        "name": "ipython",
        "version": 3
      },
      "file_extension": ".py",
      "mimetype": "text/x-python",
      "name": "python",
      "nbconvert_exporter": "python",
      "pygments_lexer": "ipython3",
      "version": "3.12.6"
    },
    "colab": {
      "provenance": [],
      "gpuType": "T4",
      "include_colab_link": true
    },
    "accelerator": "GPU"
  },
  "nbformat": 4,
  "nbformat_minor": 5
}